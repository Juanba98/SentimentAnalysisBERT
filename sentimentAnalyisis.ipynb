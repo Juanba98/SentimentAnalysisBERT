{
  "nbformat": 4,
  "nbformat_minor": 0,
  "metadata": {
    "colab": {
      "provenance": [],
      "authorship_tag": "ABX9TyNPi+DpiqgUnSXxk0wQp7SR",
      "include_colab_link": true
    },
    "kernelspec": {
      "name": "python3",
      "display_name": "Python 3"
    },
    "language_info": {
      "name": "python"
    },
    "gpuClass": "standard"
  },
  "cells": [
    {
      "cell_type": "markdown",
      "metadata": {
        "id": "view-in-github",
        "colab_type": "text"
      },
      "source": [
        "<a href=\"https://colab.research.google.com/github/Juanba98/SentimentAnalysisBERT/blob/main/sentimentAnalyisis.ipynb\" target=\"_parent\"><img src=\"https://colab.research.google.com/assets/colab-badge.svg\" alt=\"Open In Colab\"/></a>"
      ]
    },
    {
      "cell_type": "markdown",
      "source": [
        "# **Sentiment Analysis with [BERT](https://arxiv.org/pdf/1810.04805.pdf) (Pre-training of Deep Bidirectional Transformers for Language Understanding)**\n"
      ],
      "metadata": {
        "id": "asBfexy7bSaj"
      }
    },
    {
      "cell_type": "markdown",
      "source": [
        "# **1. Install and Import Dependencies** "
      ],
      "metadata": {
        "id": "9vsOJEHncUR0"
      }
    },
    {
      "cell_type": "code",
      "source": [
        "!pip install transformers &> /dev/null\n",
        "print(\"Installing Transformers ...\")"
      ],
      "metadata": {
        "colab": {
          "base_uri": "https://localhost:8080/"
        },
        "id": "KF2zE3s9dkh5",
        "outputId": "c86b6f63-fb45-483e-f854-56db1b602432"
      },
      "execution_count": 1,
      "outputs": [
        {
          "output_type": "stream",
          "name": "stdout",
          "text": [
            "Installing Transformers ...\n"
          ]
        }
      ]
    },
    {
      "cell_type": "code",
      "source": [
        "!apt install chromium-chromedriver &> /dev/null\n",
        "!pip install selenium &> /dev/null\n",
        "print(\"Installing Selenium for Web scraping ...\")"
      ],
      "metadata": {
        "colab": {
          "base_uri": "https://localhost:8080/"
        },
        "id": "9W6Wuew0nNaM",
        "outputId": "7fa3d526-c40b-4f3a-e1c8-37901c873921"
      },
      "execution_count": 2,
      "outputs": [
        {
          "output_type": "stream",
          "name": "stdout",
          "text": [
            "Installing Selenium for Web scraping ...\n"
          ]
        }
      ]
    },
    {
      "cell_type": "code",
      "source": [
        "from transformers import AutoTokenizer, AutoModelForSequenceClassification\n",
        "import torch\n",
        "import requests\n",
        "from bs4 import BeautifulSoup #to extract our data\n",
        "import re\n",
        "from selenium import webdriver\n",
        "import time\n",
        "from selenium.webdriver.chrome.options import Options"
      ],
      "metadata": {
        "colab": {
          "base_uri": "https://localhost:8080/"
        },
        "id": "dC6CZWOFdVpB",
        "outputId": "cc7f760e-dc5b-4907-d5ae-238703af0bc1"
      },
      "execution_count": 3,
      "outputs": [
        {
          "output_type": "stream",
          "name": "stderr",
          "text": [
            "/usr/local/lib/python3.7/dist-packages/requests/__init__.py:91: RequestsDependencyWarning: urllib3 (1.26.12) or chardet (3.0.4) doesn't match a supported version!\n",
            "  RequestsDependencyWarning)\n"
          ]
        }
      ]
    },
    {
      "cell_type": "markdown",
      "source": [
        "# **2. Instantiate  Model**"
      ],
      "metadata": {
        "id": "zzVSIYuTccHG"
      }
    },
    {
      "cell_type": "code",
      "source": [
        "#https://huggingface.co/nlptown/bert-base-multilingual-uncased-sentiment\n",
        "tokenizer = AutoTokenizer.from_pretrained('nlptown/bert-base-multilingual-uncased-sentiment')\n",
        "\n",
        "model = AutoModelForSequenceClassification.from_pretrained('nlptown/bert-base-multilingual-uncased-sentiment')"
      ],
      "metadata": {
        "id": "-g9HOrixf3y9"
      },
      "execution_count": 4,
      "outputs": []
    },
    {
      "cell_type": "markdown",
      "source": [
        "# **3. Encode and Calculate Sentiment**"
      ],
      "metadata": {
        "id": "-SO6q_UTce2K"
      }
    },
    {
      "cell_type": "code",
      "source": [
        "tokens = tokenizer.encode(\"Not bad\", return_tensors='pt')\n",
        "print(f'Tokens: {tokens}')\n",
        "print(f'Decode: {tokenizer.decode(tokens[0])}')"
      ],
      "metadata": {
        "colab": {
          "base_uri": "https://localhost:8080/"
        },
        "id": "GLmMWoGqgpY3",
        "outputId": "a0dd5dda-8ba1-4f3c-b17f-b60ec28467d1"
      },
      "execution_count": 5,
      "outputs": [
        {
          "output_type": "stream",
          "name": "stdout",
          "text": [
            "Tokens: tensor([[  101, 10497, 12428,   102]])\n",
            "Decode: [CLS] not bad [SEP]\n"
          ]
        }
      ]
    },
    {
      "cell_type": "markdown",
      "source": [
        "This model predicts the sentiment of the review as a number of stars (between 1 and 5)."
      ],
      "metadata": {
        "id": "13jdoD0XjRCH"
      }
    },
    {
      "cell_type": "code",
      "source": [
        "result = model(tokens)\n",
        "print(result.logits)\n",
        "print(f'Number of stars: {int(torch.argmax(result.logits))+1}')"
      ],
      "metadata": {
        "colab": {
          "base_uri": "https://localhost:8080/"
        },
        "id": "1IpJpcUOhxvk",
        "outputId": "743dde81-63ac-47e9-bace-316c915cb959"
      },
      "execution_count": 6,
      "outputs": [
        {
          "output_type": "stream",
          "name": "stdout",
          "text": [
            "tensor([[-2.2001, -0.5841,  2.0563,  1.3172, -0.4261]],\n",
            "       grad_fn=<AddmmBackward0>)\n",
            "Number of stars: 3\n"
          ]
        }
      ]
    },
    {
      "cell_type": "markdown",
      "source": [
        "# **4. Collect Reviews** "
      ],
      "metadata": {
        "id": "UUjBQFH1cgdp"
      }
    },
    {
      "cell_type": "code",
      "source": [
        "chrome_options = Options()\n",
        "chrome_options = webdriver.ChromeOptions()\n",
        "chrome_options.add_argument('--headless')\n",
        "chrome_options.add_argument('--no-sandbox')\n",
        "chrome_options.add_argument('--disable-dev-shm-usage')\n",
        "driver = webdriver.Chrome(options=chrome_options)\n",
        "\n",
        "url = \"https://www.tripadvisor.es/Restaurant_Review-g187438-d21273712-Reviews-La_Caravana-Malaga_Costa_del_Sol_Province_of_Malaga_Andalucia.html\"\n",
        "driver.get(url)\n",
        "\n",
        "\n",
        "time.sleep(10)\n",
        "soup = BeautifulSoup(driver.page_source, 'html.parser')\n",
        "driver.quit()\n",
        "regex = re.compile('partial_entry')\n",
        "results = soup.find_all('p', {'class': regex})\n",
        "reviews = [result.text for result in results]"
      ],
      "metadata": {
        "id": "jrIEAJBPm7gc"
      },
      "execution_count": 7,
      "outputs": []
    },
    {
      "cell_type": "code",
      "source": [
        "reviews"
      ],
      "metadata": {
        "id": "7D9NGkDLkR7e",
        "colab": {
          "base_uri": "https://localhost:8080/"
        },
        "outputId": "5c8eafba-4017-4be5-d9f0-5d578f61ac63"
      },
      "execution_count": 8,
      "outputs": [
        {
          "output_type": "execute_result",
          "data": {
            "text/plain": [
              "['¡Si vienes a Málaga no te lo puedes perder!\\nGrandísimo descubrimiento, es uno de los mejores sitios de la ciudad para comer. Cocina riquísima y de alta calidad. Además el trato es excelente, Álvaro y los chicos te harán sentir como en casa.\\n¡Nos vemos...en la Caravana!Más',\n",
              " 'Llevo comiendo aquí desde los primeros días que se abrió. Siempre hay buenísimo ambiente, los trabajadores son muy majos. Soy del barrio y los he visto crecer como local y cuando dieron con la tecla, desde ese momento no se ha bajado ni un poco...la calidad, ni de los productos ni de la ejecución de los platos.\\n\\nTienen los tercios de estrellas galicia mas fríos de Málaga, perfectos para acompañar la comida. \\n\\nEn definitiva, comida inspirada de diferentes culturas, en una mezcla de risas y buen rollo. \\n\\nRecomendable 100% si estás por Málaga.Más',\n",
              " 'Soy muy fan de la mezcla de sabores que ofrecen los platos de este sitio. La calidad de las carnes, salsas y guarniciones hacen que vaya varias veces al mes, y además con opciones sin gluten. Muy recomendable.',\n",
              " 'Nos ha encantado descubrir platos nuevos, con sabores diferentes y comentados por el cocinero.  Una pena que lo tengamos tan lejos de casa porque somos de Huelva.\\n\\nLo que hace diferente este sitio son las mezclas de ingredientes a los que los españoles no estamos...acostumbrados, de nombres imposibles que en Sudamérica son muy conocidos pero aquí no los conocemos. Los mezcla de una manera excepcional dándole el toque justo de picante, ácido, suavidad y sabor. Y todo con una plancha muy pequeñita donde hace su \"magia\". Nos dejamos sorprender por el chef y salimos encantados.\\n\\nEscribo esto por una opinión que he leído por aquí diciendo que los que opinan tan bien de este sitio deben ser amigos o familia... Nada más lejos, conocimos este sitio por las opiniones de TripAdvisor y ha sido todo un acierto.\\n\\nFusión de sabores que nadie debería perderse.\\n\\nMuy recomendable.Más',\n",
              " 'Almorzamos con un grupo de 12 personas despues (hizé la reserva antes), sentando en una mesa larga con todo. El cocinero y el camarero  nos hizo todo para hacer nuetro tiempo agradable. Cuando llegaron las ensaladas, todos casi se callajon, tan rica y tan saborosa....El plato muy muy rico tambien, los vegetarianos contentos con su tofu y otros con carne. Despues postre, no hay mas palabras. Claro que volvimos approximo dia, otra comida, excellente igualmente.\\nUn restaurate de un caracter propio, el personal muy bueno y simpatico mas la comida que comí en este viaje. La misma cosa dicieron todos en nuetro grupo. Una recomendacion por  cierto!Más',\n",
              " 'Pasamos una velada expléndida, la comida espectacular, el personal atento y profesional, muy recomendable.',\n",
              " 'Ambiente especial y distinto... Gente de calle  y agradable y lo digo por el personal, uno puede ir solo y reir y hechar un buen rato., comida origuinal, distinto a lo que hay por el centro y muy sabroso. Recomiendo provar. Se repetira.',\n",
              " 'Después del campus pasé y tome una merienda que me prepararon casi al paso, un taco de ostras empanadas en maíz con una salsa que era, me explicó el camarero, pico de gallo con aguacate y manzana¡! Muy rico con mi refresco.',\n",
              " 'Ese sabor no lo encuentras en otros lugares de Europa, he recorrido varios paises y lejos es el mejor sabor que he encontrado. Felicitaciones.',\n",
              " 'Maravillosa ATENCION y la comida excelente. \\nEs como una fonda, alejada del centro y del ruido. \\nNos quedamos con ganas de volver.']"
            ]
          },
          "metadata": {},
          "execution_count": 8
        }
      ]
    },
    {
      "cell_type": "markdown",
      "source": [
        "# **5. Load Review into DataFrame and Score** "
      ],
      "metadata": {
        "id": "i_bn2BjWch4o"
      }
    },
    {
      "cell_type": "code",
      "execution_count": 9,
      "metadata": {
        "id": "oCprbIDQbA3J"
      },
      "outputs": [],
      "source": [
        "import numpy as np\n",
        "import pandas as pd"
      ]
    },
    {
      "cell_type": "code",
      "source": [
        "df = pd.DataFrame(np.array(reviews), columns=['review'])"
      ],
      "metadata": {
        "id": "xf_PUiTOQUsr"
      },
      "execution_count": 10,
      "outputs": []
    },
    {
      "cell_type": "code",
      "source": [
        "df['review'].iloc[0]"
      ],
      "metadata": {
        "colab": {
          "base_uri": "https://localhost:8080/",
          "height": 53
        },
        "id": "JQwOReS9QXpg",
        "outputId": "2a24ec72-e870-460c-b4bc-50eb7ecdfdb5"
      },
      "execution_count": 11,
      "outputs": [
        {
          "output_type": "execute_result",
          "data": {
            "text/plain": [
              "'¡Si vienes a Málaga no te lo puedes perder!\\nGrandísimo descubrimiento, es uno de los mejores sitios de la ciudad para comer. Cocina riquísima y de alta calidad. Además el trato es excelente, Álvaro y los chicos te harán sentir como en casa.\\n¡Nos vemos...en la Caravana!Más'"
            ],
            "application/vnd.google.colaboratory.intrinsic+json": {
              "type": "string"
            }
          },
          "metadata": {},
          "execution_count": 11
        }
      ]
    },
    {
      "cell_type": "code",
      "source": [
        "def sentiment_score(review):\n",
        "    tokens = tokenizer.encode(review, return_tensors='pt')\n",
        "    result = model(tokens)\n",
        "    return int(torch.argmax(result.logits))+1"
      ],
      "metadata": {
        "id": "OcJqz7aAQcL0"
      },
      "execution_count": 12,
      "outputs": []
    },
    {
      "cell_type": "code",
      "source": [
        "#512 limit of tokens for the pipeline\n",
        "df['sentiment'] = df['review'].apply(lambda x: sentiment_score(x[:512]))"
      ],
      "metadata": {
        "id": "TPgayJaRQe5n"
      },
      "execution_count": 13,
      "outputs": []
    },
    {
      "cell_type": "code",
      "source": [
        "df"
      ],
      "metadata": {
        "colab": {
          "base_uri": "https://localhost:8080/",
          "height": 363
        },
        "id": "7MfD28NlRTk3",
        "outputId": "ebb1eae5-aa1e-4b7f-c91a-77963fda3fa5"
      },
      "execution_count": 14,
      "outputs": [
        {
          "output_type": "execute_result",
          "data": {
            "text/plain": [
              "                                              review  sentiment\n",
              "0  ¡Si vienes a Málaga no te lo puedes perder!\\nG...          5\n",
              "1  Llevo comiendo aquí desde los primeros días qu...          5\n",
              "2  Soy muy fan de la mezcla de sabores que ofrece...          5\n",
              "3  Nos ha encantado descubrir platos nuevos, con ...          5\n",
              "4  Almorzamos con un grupo de 12 personas despues...          5\n",
              "5  Pasamos una velada expléndida, la comida espec...          5\n",
              "6  Ambiente especial y distinto... Gente de calle...          4\n",
              "7  Después del campus pasé y tome una merienda qu...          5\n",
              "8  Ese sabor no lo encuentras en otros lugares de...          5\n",
              "9  Maravillosa ATENCION y la comida excelente. \\n...          5"
            ],
            "text/html": [
              "\n",
              "  <div id=\"df-dcffff55-a11b-4f79-82f0-bd9b218e645a\">\n",
              "    <div class=\"colab-df-container\">\n",
              "      <div>\n",
              "<style scoped>\n",
              "    .dataframe tbody tr th:only-of-type {\n",
              "        vertical-align: middle;\n",
              "    }\n",
              "\n",
              "    .dataframe tbody tr th {\n",
              "        vertical-align: top;\n",
              "    }\n",
              "\n",
              "    .dataframe thead th {\n",
              "        text-align: right;\n",
              "    }\n",
              "</style>\n",
              "<table border=\"1\" class=\"dataframe\">\n",
              "  <thead>\n",
              "    <tr style=\"text-align: right;\">\n",
              "      <th></th>\n",
              "      <th>review</th>\n",
              "      <th>sentiment</th>\n",
              "    </tr>\n",
              "  </thead>\n",
              "  <tbody>\n",
              "    <tr>\n",
              "      <th>0</th>\n",
              "      <td>¡Si vienes a Málaga no te lo puedes perder!\\nG...</td>\n",
              "      <td>5</td>\n",
              "    </tr>\n",
              "    <tr>\n",
              "      <th>1</th>\n",
              "      <td>Llevo comiendo aquí desde los primeros días qu...</td>\n",
              "      <td>5</td>\n",
              "    </tr>\n",
              "    <tr>\n",
              "      <th>2</th>\n",
              "      <td>Soy muy fan de la mezcla de sabores que ofrece...</td>\n",
              "      <td>5</td>\n",
              "    </tr>\n",
              "    <tr>\n",
              "      <th>3</th>\n",
              "      <td>Nos ha encantado descubrir platos nuevos, con ...</td>\n",
              "      <td>5</td>\n",
              "    </tr>\n",
              "    <tr>\n",
              "      <th>4</th>\n",
              "      <td>Almorzamos con un grupo de 12 personas despues...</td>\n",
              "      <td>5</td>\n",
              "    </tr>\n",
              "    <tr>\n",
              "      <th>5</th>\n",
              "      <td>Pasamos una velada expléndida, la comida espec...</td>\n",
              "      <td>5</td>\n",
              "    </tr>\n",
              "    <tr>\n",
              "      <th>6</th>\n",
              "      <td>Ambiente especial y distinto... Gente de calle...</td>\n",
              "      <td>4</td>\n",
              "    </tr>\n",
              "    <tr>\n",
              "      <th>7</th>\n",
              "      <td>Después del campus pasé y tome una merienda qu...</td>\n",
              "      <td>5</td>\n",
              "    </tr>\n",
              "    <tr>\n",
              "      <th>8</th>\n",
              "      <td>Ese sabor no lo encuentras en otros lugares de...</td>\n",
              "      <td>5</td>\n",
              "    </tr>\n",
              "    <tr>\n",
              "      <th>9</th>\n",
              "      <td>Maravillosa ATENCION y la comida excelente. \\n...</td>\n",
              "      <td>5</td>\n",
              "    </tr>\n",
              "  </tbody>\n",
              "</table>\n",
              "</div>\n",
              "      <button class=\"colab-df-convert\" onclick=\"convertToInteractive('df-dcffff55-a11b-4f79-82f0-bd9b218e645a')\"\n",
              "              title=\"Convert this dataframe to an interactive table.\"\n",
              "              style=\"display:none;\">\n",
              "        \n",
              "  <svg xmlns=\"http://www.w3.org/2000/svg\" height=\"24px\"viewBox=\"0 0 24 24\"\n",
              "       width=\"24px\">\n",
              "    <path d=\"M0 0h24v24H0V0z\" fill=\"none\"/>\n",
              "    <path d=\"M18.56 5.44l.94 2.06.94-2.06 2.06-.94-2.06-.94-.94-2.06-.94 2.06-2.06.94zm-11 1L8.5 8.5l.94-2.06 2.06-.94-2.06-.94L8.5 2.5l-.94 2.06-2.06.94zm10 10l.94 2.06.94-2.06 2.06-.94-2.06-.94-.94-2.06-.94 2.06-2.06.94z\"/><path d=\"M17.41 7.96l-1.37-1.37c-.4-.4-.92-.59-1.43-.59-.52 0-1.04.2-1.43.59L10.3 9.45l-7.72 7.72c-.78.78-.78 2.05 0 2.83L4 21.41c.39.39.9.59 1.41.59.51 0 1.02-.2 1.41-.59l7.78-7.78 2.81-2.81c.8-.78.8-2.07 0-2.86zM5.41 20L4 18.59l7.72-7.72 1.47 1.35L5.41 20z\"/>\n",
              "  </svg>\n",
              "      </button>\n",
              "      \n",
              "  <style>\n",
              "    .colab-df-container {\n",
              "      display:flex;\n",
              "      flex-wrap:wrap;\n",
              "      gap: 12px;\n",
              "    }\n",
              "\n",
              "    .colab-df-convert {\n",
              "      background-color: #E8F0FE;\n",
              "      border: none;\n",
              "      border-radius: 50%;\n",
              "      cursor: pointer;\n",
              "      display: none;\n",
              "      fill: #1967D2;\n",
              "      height: 32px;\n",
              "      padding: 0 0 0 0;\n",
              "      width: 32px;\n",
              "    }\n",
              "\n",
              "    .colab-df-convert:hover {\n",
              "      background-color: #E2EBFA;\n",
              "      box-shadow: 0px 1px 2px rgba(60, 64, 67, 0.3), 0px 1px 3px 1px rgba(60, 64, 67, 0.15);\n",
              "      fill: #174EA6;\n",
              "    }\n",
              "\n",
              "    [theme=dark] .colab-df-convert {\n",
              "      background-color: #3B4455;\n",
              "      fill: #D2E3FC;\n",
              "    }\n",
              "\n",
              "    [theme=dark] .colab-df-convert:hover {\n",
              "      background-color: #434B5C;\n",
              "      box-shadow: 0px 1px 3px 1px rgba(0, 0, 0, 0.15);\n",
              "      filter: drop-shadow(0px 1px 2px rgba(0, 0, 0, 0.3));\n",
              "      fill: #FFFFFF;\n",
              "    }\n",
              "  </style>\n",
              "\n",
              "      <script>\n",
              "        const buttonEl =\n",
              "          document.querySelector('#df-dcffff55-a11b-4f79-82f0-bd9b218e645a button.colab-df-convert');\n",
              "        buttonEl.style.display =\n",
              "          google.colab.kernel.accessAllowed ? 'block' : 'none';\n",
              "\n",
              "        async function convertToInteractive(key) {\n",
              "          const element = document.querySelector('#df-dcffff55-a11b-4f79-82f0-bd9b218e645a');\n",
              "          const dataTable =\n",
              "            await google.colab.kernel.invokeFunction('convertToInteractive',\n",
              "                                                     [key], {});\n",
              "          if (!dataTable) return;\n",
              "\n",
              "          const docLinkHtml = 'Like what you see? Visit the ' +\n",
              "            '<a target=\"_blank\" href=https://colab.research.google.com/notebooks/data_table.ipynb>data table notebook</a>'\n",
              "            + ' to learn more about interactive tables.';\n",
              "          element.innerHTML = '';\n",
              "          dataTable['output_type'] = 'display_data';\n",
              "          await google.colab.output.renderOutput(dataTable, element);\n",
              "          const docLink = document.createElement('div');\n",
              "          docLink.innerHTML = docLinkHtml;\n",
              "          element.appendChild(docLink);\n",
              "        }\n",
              "      </script>\n",
              "    </div>\n",
              "  </div>\n",
              "  "
            ]
          },
          "metadata": {},
          "execution_count": 14
        }
      ]
    },
    {
      "cell_type": "markdown",
      "source": [
        "##Referential implementation:\n",
        "- https://github.com/nicknochnack/BERTSentiment/blob/main/Sentiment.ipynbexamples/adversarial_patch/AdversarialPatch.ipynb\n"
      ],
      "metadata": {
        "id": "UyMMtqykUzG3"
      }
    }
  ]
}